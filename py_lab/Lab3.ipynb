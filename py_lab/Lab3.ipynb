{
 "cells": [
  {
   "cell_type": "markdown",
   "metadata": {},
   "source": [
    "## Лабораторная работа № 3\n",
    "\n",
    "Сафронова Мария\n",
    "\n",
    "Группа Т12О-101М"
   ]
  },
  {
   "cell_type": "code",
   "execution_count": 7,
   "metadata": {},
   "outputs": [],
   "source": [
    "import numpy as np"
   ]
  },
  {
   "cell_type": "markdown",
   "metadata": {},
   "source": [
    "#### Дан вектор [1, 2, 3, 4, 5], построить новый вектор с тремя нулями между каждым значением"
   ]
  },
  {
   "cell_type": "code",
   "execution_count": 33,
   "metadata": {},
   "outputs": [
    {
     "data": {
      "text/plain": [
       "array([1., 0., 0., 0., 2., 0., 0., 0., 3., 0., 0., 0., 4., 0., 0., 0., 5.])"
      ]
     },
     "execution_count": 33,
     "metadata": {},
     "output_type": "execute_result"
    }
   ],
   "source": [
    "vec = np.arange(1, 6)\n",
    "nVec = np.zeros(len(vec) + (len(vec)-1)*3)\n",
    "nVec[::4] = vec\n",
    "nVec"
   ]
  },
  {
   "cell_type": "markdown",
   "metadata": {},
   "source": [
    "#### Поменять 2 строки в матрице"
   ]
  },
  {
   "cell_type": "code",
   "execution_count": 17,
   "metadata": {},
   "outputs": [
    {
     "name": "stdout",
     "output_type": "stream",
     "text": [
      "[[0 1 2]\n",
      " [3 4 5]\n",
      " [6 7 8]]\n"
     ]
    },
    {
     "data": {
      "text/plain": [
       "array([[0, 1, 2],\n",
       "       [3, 4, 5],\n",
       "       [6, 7, 8]])"
      ]
     },
     "execution_count": 17,
     "metadata": {},
     "output_type": "execute_result"
    }
   ],
   "source": [
    "matr = np.arange(9).reshape(3,3)\n",
    "print(matr)\n",
    "matr[[1,2]] = arr[[2,1]]\n",
    "matr"
   ]
  },
  {
   "cell_type": "markdown",
   "metadata": {},
   "source": [
    "#### Рассмотрим набор из 10 троек, описывающих 10 треугольников (с общими вершинами), найти множество уникальных отрезков, составляющих все треугольники"
   ]
  },
  {
   "cell_type": "code",
   "execution_count": 43,
   "metadata": {},
   "outputs": [
    {
     "name": "stdout",
     "output_type": "stream",
     "text": [
      "[( 0, 38) ( 0, 47) ( 1,  5) ( 1, 82) ( 4, 13) ( 4, 33) ( 5, 82) ( 6, 22)\n",
      " ( 6, 34) ( 6, 42) ( 6, 52) (10, 82) (10, 93) (13, 33) (19, 74) (19, 94)\n",
      " (22, 52) (34, 42) (38, 47) (40, 62) (40, 73) (48, 79) (48, 94) (58, 97)\n",
      " (58, 99) (62, 73) (74, 94) (79, 94) (82, 93) (97, 99)]\n"
     ]
    }
   ],
   "source": [
    "faces = np.random.randint(0,100,(10,3))\n",
    "F = np.roll(faces.repeat(2,axis=1),-1,axis=1)\n",
    "F = F.reshape(len(F)*3,2)\n",
    "F = np.sort(F,axis=1)\n",
    "G = F.view( dtype=[('p0',F.dtype),('p1',F.dtype)] )\n",
    "G = np.unique(G)\n",
    "print(G)"
   ]
  },
  {
   "cell_type": "markdown",
   "metadata": {},
   "source": [
    "#### Дан массив C; создать массив A, что np.bincount(A) == C"
   ]
  },
  {
   "cell_type": "code",
   "execution_count": 58,
   "metadata": {},
   "outputs": [
    {
     "name": "stdout",
     "output_type": "stream",
     "text": [
      "[2 0 2 0 0 0 0 0 2]\n"
     ]
    },
    {
     "data": {
      "text/plain": [
       "array([0, 0, 2, 2, 8, 8])"
      ]
     },
     "execution_count": 58,
     "metadata": {},
     "output_type": "execute_result"
    }
   ],
   "source": [
    "C = np.bincount([0,0,2,2,8,8])\n",
    "print(C)\n",
    "np.repeat(np.arange(len(C)), C)\n"
   ]
  },
  {
   "cell_type": "markdown",
   "metadata": {},
   "source": [
    "#### Дан вектор Z, построить матрицу, первая строка которой (Z[0],Z[1],Z[2]), каждая последующая сдвинута на 1 (последняя (Z[-3],Z[-2],Z[-1]))"
   ]
  },
  {
   "cell_type": "code",
   "execution_count": 61,
   "metadata": {},
   "outputs": [
    {
     "data": {
      "text/plain": [
       "array([[0, 1, 2],\n",
       "       [1, 2, 3],\n",
       "       [2, 3, 4],\n",
       "       [3, 4, 5],\n",
       "       [4, 5, 6],\n",
       "       [5, 6, 7],\n",
       "       [6, 7, 8],\n",
       "       [7, 8, 9]])"
      ]
     },
     "execution_count": 61,
     "metadata": {},
     "output_type": "execute_result"
    }
   ],
   "source": [
    "from numpy.lib import stride_tricks\n",
    "\n",
    "def rolling(a, window):\n",
    "    shape = (a.size - window + 1, window)\n",
    "    strides = (a.itemsize, a.itemsize)\n",
    "    return stride_tricks.as_strided(a, shape=shape, strides=strides)\n",
    "\n",
    "rolling(np.arange(10), 3)"
   ]
  },
  {
   "cell_type": "markdown",
   "metadata": {},
   "source": [
    "#### Инвертировать булево значение, или поменять знак у числового массива без создания нового"
   ]
  },
  {
   "cell_type": "code",
   "execution_count": 75,
   "metadata": {},
   "outputs": [
    {
     "name": "stdout",
     "output_type": "stream",
     "text": [
      "[0 1 0 0 0]\n"
     ]
    },
    {
     "data": {
      "text/plain": [
       "array([1, 0, 1, 1, 1])"
      ]
     },
     "execution_count": 75,
     "metadata": {},
     "output_type": "execute_result"
    }
   ],
   "source": [
    "Z = np.random.randint(0,2,5)\n",
    "print(Z)\n",
    "np.logical_not(Z, out=Z)"
   ]
  },
  {
   "cell_type": "code",
   "execution_count": 74,
   "metadata": {},
   "outputs": [
    {
     "name": "stdout",
     "output_type": "stream",
     "text": [
      "[ 0.46262875 -0.13487002 -0.84949118 -0.90683165  0.97257965]\n"
     ]
    },
    {
     "data": {
      "text/plain": [
       "array([-0.46262875,  0.13487002,  0.84949118,  0.90683165, -0.97257965])"
      ]
     },
     "execution_count": 74,
     "metadata": {},
     "output_type": "execute_result"
    }
   ],
   "source": [
    "Z = np.random.uniform(-1.0,1.0,5)\n",
    "print(Z)\n",
    "np.negative(Z, out=Z)"
   ]
  },
  {
   "cell_type": "markdown",
   "metadata": {},
   "source": [
    "#### Посчитать ранг матрицы"
   ]
  },
  {
   "cell_type": "code",
   "execution_count": 76,
   "metadata": {},
   "outputs": [
    {
     "data": {
      "text/plain": [
       "10"
      ]
     },
     "execution_count": 76,
     "metadata": {},
     "output_type": "execute_result"
    }
   ],
   "source": [
    "Z = np.random.uniform(0,1,(10,10))\n",
    "np.linalg.matrix_rank(Z)"
   ]
  },
  {
   "cell_type": "markdown",
   "metadata": {},
   "source": [
    "#### Найти наиболее частое значение в массиве"
   ]
  },
  {
   "cell_type": "code",
   "execution_count": 77,
   "metadata": {},
   "outputs": [
    {
     "data": {
      "text/plain": [
       "2"
      ]
     },
     "execution_count": 77,
     "metadata": {},
     "output_type": "execute_result"
    }
   ],
   "source": [
    "Z = np.random.randint(0,10,50)\n",
    "np.bincount(Z).argmax()"
   ]
  },
  {
   "cell_type": "markdown",
   "metadata": {},
   "source": [
    "#### Извлечь все смежные 3x3 блоки из 10x10 матрицы"
   ]
  },
  {
   "cell_type": "code",
   "execution_count": 80,
   "metadata": {},
   "outputs": [
    {
     "name": "stdout",
     "output_type": "stream",
     "text": [
      "[[[[0 1 0]\n",
      "   [2 3 0]\n",
      "   [2 0 1]]\n",
      "\n",
      "  [[1 0 2]\n",
      "   [3 0 0]\n",
      "   [0 1 3]]\n",
      "\n",
      "  [[0 2 4]\n",
      "   [0 0 2]\n",
      "   [1 3 3]]\n",
      "\n",
      "  [[2 4 1]\n",
      "   [0 2 3]\n",
      "   [3 3 0]]\n",
      "\n",
      "  [[4 1 2]\n",
      "   [2 3 3]\n",
      "   [3 0 2]]\n",
      "\n",
      "  [[1 2 0]\n",
      "   [3 3 3]\n",
      "   [0 2 3]]\n",
      "\n",
      "  [[2 0 4]\n",
      "   [3 3 3]\n",
      "   [2 3 1]]\n",
      "\n",
      "  [[0 4 1]\n",
      "   [3 3 1]\n",
      "   [3 1 0]]]\n",
      "\n",
      "\n",
      " [[[2 3 0]\n",
      "   [2 0 1]\n",
      "   [3 4 3]]\n",
      "\n",
      "  [[3 0 0]\n",
      "   [0 1 3]\n",
      "   [4 3 0]]\n",
      "\n",
      "  [[0 0 2]\n",
      "   [1 3 3]\n",
      "   [3 0 1]]\n",
      "\n",
      "  [[0 2 3]\n",
      "   [3 3 0]\n",
      "   [0 1 2]]\n",
      "\n",
      "  [[2 3 3]\n",
      "   [3 0 2]\n",
      "   [1 2 3]]\n",
      "\n",
      "  [[3 3 3]\n",
      "   [0 2 3]\n",
      "   [2 3 2]]\n",
      "\n",
      "  [[3 3 3]\n",
      "   [2 3 1]\n",
      "   [3 2 2]]\n",
      "\n",
      "  [[3 3 1]\n",
      "   [3 1 0]\n",
      "   [2 2 0]]]\n",
      "\n",
      "\n",
      " [[[2 0 1]\n",
      "   [3 4 3]\n",
      "   [3 4 0]]\n",
      "\n",
      "  [[0 1 3]\n",
      "   [4 3 0]\n",
      "   [4 0 4]]\n",
      "\n",
      "  [[1 3 3]\n",
      "   [3 0 1]\n",
      "   [0 4 0]]\n",
      "\n",
      "  [[3 3 0]\n",
      "   [0 1 2]\n",
      "   [4 0 3]]\n",
      "\n",
      "  [[3 0 2]\n",
      "   [1 2 3]\n",
      "   [0 3 2]]\n",
      "\n",
      "  [[0 2 3]\n",
      "   [2 3 2]\n",
      "   [3 2 3]]\n",
      "\n",
      "  [[2 3 1]\n",
      "   [3 2 2]\n",
      "   [2 3 1]]\n",
      "\n",
      "  [[3 1 0]\n",
      "   [2 2 0]\n",
      "   [3 1 1]]]\n",
      "\n",
      "\n",
      " [[[3 4 3]\n",
      "   [3 4 0]\n",
      "   [1 4 0]]\n",
      "\n",
      "  [[4 3 0]\n",
      "   [4 0 4]\n",
      "   [4 0 4]]\n",
      "\n",
      "  [[3 0 1]\n",
      "   [0 4 0]\n",
      "   [0 4 3]]\n",
      "\n",
      "  [[0 1 2]\n",
      "   [4 0 3]\n",
      "   [4 3 4]]\n",
      "\n",
      "  [[1 2 3]\n",
      "   [0 3 2]\n",
      "   [3 4 2]]\n",
      "\n",
      "  [[2 3 2]\n",
      "   [3 2 3]\n",
      "   [4 2 3]]\n",
      "\n",
      "  [[3 2 2]\n",
      "   [2 3 1]\n",
      "   [2 3 1]]\n",
      "\n",
      "  [[2 2 0]\n",
      "   [3 1 1]\n",
      "   [3 1 1]]]\n",
      "\n",
      "\n",
      " [[[3 4 0]\n",
      "   [1 4 0]\n",
      "   [4 4 0]]\n",
      "\n",
      "  [[4 0 4]\n",
      "   [4 0 4]\n",
      "   [4 0 3]]\n",
      "\n",
      "  [[0 4 0]\n",
      "   [0 4 3]\n",
      "   [0 3 0]]\n",
      "\n",
      "  [[4 0 3]\n",
      "   [4 3 4]\n",
      "   [3 0 4]]\n",
      "\n",
      "  [[0 3 2]\n",
      "   [3 4 2]\n",
      "   [0 4 2]]\n",
      "\n",
      "  [[3 2 3]\n",
      "   [4 2 3]\n",
      "   [4 2 4]]\n",
      "\n",
      "  [[2 3 1]\n",
      "   [2 3 1]\n",
      "   [2 4 4]]\n",
      "\n",
      "  [[3 1 1]\n",
      "   [3 1 1]\n",
      "   [4 4 3]]]\n",
      "\n",
      "\n",
      " [[[1 4 0]\n",
      "   [4 4 0]\n",
      "   [2 3 1]]\n",
      "\n",
      "  [[4 0 4]\n",
      "   [4 0 3]\n",
      "   [3 1 3]]\n",
      "\n",
      "  [[0 4 3]\n",
      "   [0 3 0]\n",
      "   [1 3 2]]\n",
      "\n",
      "  [[4 3 4]\n",
      "   [3 0 4]\n",
      "   [3 2 1]]\n",
      "\n",
      "  [[3 4 2]\n",
      "   [0 4 2]\n",
      "   [2 1 3]]\n",
      "\n",
      "  [[4 2 3]\n",
      "   [4 2 4]\n",
      "   [1 3 0]]\n",
      "\n",
      "  [[2 3 1]\n",
      "   [2 4 4]\n",
      "   [3 0 1]]\n",
      "\n",
      "  [[3 1 1]\n",
      "   [4 4 3]\n",
      "   [0 1 0]]]\n",
      "\n",
      "\n",
      " [[[4 4 0]\n",
      "   [2 3 1]\n",
      "   [0 4 4]]\n",
      "\n",
      "  [[4 0 3]\n",
      "   [3 1 3]\n",
      "   [4 4 2]]\n",
      "\n",
      "  [[0 3 0]\n",
      "   [1 3 2]\n",
      "   [4 2 1]]\n",
      "\n",
      "  [[3 0 4]\n",
      "   [3 2 1]\n",
      "   [2 1 1]]\n",
      "\n",
      "  [[0 4 2]\n",
      "   [2 1 3]\n",
      "   [1 1 4]]\n",
      "\n",
      "  [[4 2 4]\n",
      "   [1 3 0]\n",
      "   [1 4 3]]\n",
      "\n",
      "  [[2 4 4]\n",
      "   [3 0 1]\n",
      "   [4 3 3]]\n",
      "\n",
      "  [[4 4 3]\n",
      "   [0 1 0]\n",
      "   [3 3 4]]]\n",
      "\n",
      "\n",
      " [[[2 3 1]\n",
      "   [0 4 4]\n",
      "   [2 1 2]]\n",
      "\n",
      "  [[3 1 3]\n",
      "   [4 4 2]\n",
      "   [1 2 4]]\n",
      "\n",
      "  [[1 3 2]\n",
      "   [4 2 1]\n",
      "   [2 4 0]]\n",
      "\n",
      "  [[3 2 1]\n",
      "   [2 1 1]\n",
      "   [4 0 3]]\n",
      "\n",
      "  [[2 1 3]\n",
      "   [1 1 4]\n",
      "   [0 3 4]]\n",
      "\n",
      "  [[1 3 0]\n",
      "   [1 4 3]\n",
      "   [3 4 0]]\n",
      "\n",
      "  [[3 0 1]\n",
      "   [4 3 3]\n",
      "   [4 0 1]]\n",
      "\n",
      "  [[0 1 0]\n",
      "   [3 3 4]\n",
      "   [0 1 3]]]]\n"
     ]
    }
   ],
   "source": [
    "from numpy.lib import stride_tricks\n",
    "\n",
    "Z = np.random.randint(0,5,(10,10))\n",
    "n = 3\n",
    "i = 1 + (Z.shape[0] - n)\n",
    "j = 1 + (Z.shape[1] - n)\n",
    "C = stride_tricks.as_strided(Z, shape=(i, j, n, n), strides=Z.strides + Z.strides)\n",
    "print(C)"
   ]
  },
  {
   "cell_type": "markdown",
   "metadata": {},
   "source": [
    "#### Рассмотрим множество матриц (n,n) и множество из p векторов (n,1). Посчитать сумму p произведений матриц (результат имеет размерность (n,1))"
   ]
  },
  {
   "cell_type": "code",
   "execution_count": 82,
   "metadata": {},
   "outputs": [
    {
     "data": {
      "text/plain": [
       "array([[20.],\n",
       "       [20.],\n",
       "       [20.],\n",
       "       [20.]])"
      ]
     },
     "execution_count": 82,
     "metadata": {},
     "output_type": "execute_result"
    }
   ],
   "source": [
    "p, n = 5, 4\n",
    "M = np.ones((p,n,n))\n",
    "V = np.ones((p,n,1))\n",
    "S = np.tensordot(M, V, axes=[[0, 2], [0, 1]])\n",
    "S"
   ]
  },
  {
   "cell_type": "markdown",
   "metadata": {},
   "source": [
    "#### Дан массив 16x16, посчитать сумму по блокам 4x4"
   ]
  },
  {
   "cell_type": "code",
   "execution_count": 83,
   "metadata": {},
   "outputs": [
    {
     "data": {
      "text/plain": [
       "array([[16., 16., 16., 16.],\n",
       "       [16., 16., 16., 16.],\n",
       "       [16., 16., 16., 16.],\n",
       "       [16., 16., 16., 16.]])"
      ]
     },
     "execution_count": 83,
     "metadata": {},
     "output_type": "execute_result"
    }
   ],
   "source": [
    "Z = np.ones((16,16))\n",
    "k = 4\n",
    "S = np.add.reduceat(\n",
    "    np.add.reduceat(Z, np.arange(0, Z.shape[0], k), axis=0),\n",
    "    np.arange(0, Z.shape[1], k),\n",
    "    axis=1,\n",
    ")\n",
    "S"
   ]
  },
  {
   "cell_type": "markdown",
   "metadata": {},
   "source": [
    "#### Найти n наибольших значений в массиве"
   ]
  },
  {
   "cell_type": "code",
   "execution_count": 85,
   "metadata": {},
   "outputs": [
    {
     "name": "stdout",
     "output_type": "stream",
     "text": [
      "[98 99 97 96 95]\n"
     ]
    }
   ],
   "source": [
    "Z = np.arange(100)\n",
    "np.random.shuffle(Z)\n",
    "n = 5\n",
    "\n",
    "print(Z[np.argpartition(-Z,n)[:n]])"
   ]
  },
  {
   "cell_type": "markdown",
   "metadata": {},
   "source": [
    "#### Построить прямое произведение массивов (все комбинации с каждым элементом)"
   ]
  },
  {
   "cell_type": "code",
   "execution_count": 86,
   "metadata": {},
   "outputs": [
    {
     "name": "stdout",
     "output_type": "stream",
     "text": [
      "[[1 4 6]\n",
      " [1 4 7]\n",
      " [1 5 6]\n",
      " [1 5 7]\n",
      " [2 4 6]\n",
      " [2 4 7]\n",
      " [2 5 6]\n",
      " [2 5 7]\n",
      " [3 4 6]\n",
      " [3 4 7]\n",
      " [3 5 6]\n",
      " [3 5 7]]\n"
     ]
    }
   ],
   "source": [
    "def cartesian(arrays):\n",
    "    arrays = [np.asarray(a) for a in arrays]\n",
    "    shape = map(len, arrays)\n",
    "\n",
    "    ix = np.indices(shape, dtype=int)\n",
    "    ix = ix.reshape(len(arrays), -1).T\n",
    "\n",
    "    for n, arr in enumerate(arrays):\n",
    "        ix[:, n] = arrays[n][ix[:, n]]\n",
    "\n",
    "    return ix\n",
    "\n",
    "print(cartesian(([1, 2, 3], [4, 5], [6, 7])))"
   ]
  },
  {
   "cell_type": "markdown",
   "metadata": {},
   "source": [
    "#### Даны 2 массива A (8x3) и B (2x2). Найти строки в A, которые содержат элементы из каждой строки в B, независимо от порядка элементов в B"
   ]
  },
  {
   "cell_type": "code",
   "execution_count": 88,
   "metadata": {},
   "outputs": [
    {
     "name": "stdout",
     "output_type": "stream",
     "text": [
      "[0 1 3 4 5 7]\n"
     ]
    }
   ],
   "source": [
    "A = np.random.randint(0,5,(8,3))\n",
    "B = np.random.randint(0,5,(2,2))\n",
    "\n",
    "C = (A[..., np.newaxis, np.newaxis] == B)\n",
    "rows = (C.sum(axis=(1,2,3)) >= B.shape[1]).nonzero()[0]\n",
    "print(rows)"
   ]
  },
  {
   "cell_type": "markdown",
   "metadata": {},
   "source": [
    "#### Дана 10x3 матрица, найти строки из неравных значений (например [2,2,3])"
   ]
  },
  {
   "cell_type": "code",
   "execution_count": 89,
   "metadata": {},
   "outputs": [
    {
     "name": "stdout",
     "output_type": "stream",
     "text": [
      "[[1 3 4]\n",
      " [1 1 0]\n",
      " [1 4 2]\n",
      " [0 3 2]\n",
      " [3 1 1]\n",
      " [1 4 0]\n",
      " [4 0 0]\n",
      " [2 1 2]\n",
      " [1 1 4]\n",
      " [3 4 4]]\n",
      "[[1 3 4]\n",
      " [1 1 0]\n",
      " [1 4 2]\n",
      " [0 3 2]\n",
      " [3 1 1]\n",
      " [1 4 0]\n",
      " [4 0 0]\n",
      " [2 1 2]\n",
      " [1 1 4]\n",
      " [3 4 4]]\n"
     ]
    }
   ],
   "source": [
    "Z = np.random.randint(0,5,(10,3))\n",
    "E = np.logical_and.reduce(Z[:,1:] == Z[:,:-1], axis=1)\n",
    "U = Z[~E]\n",
    "print(Z)\n",
    "print(U)"
   ]
  },
  {
   "cell_type": "markdown",
   "metadata": {},
   "source": [
    "#### Преобразовать вектор чисел в матрицу бинарных представлений"
   ]
  },
  {
   "cell_type": "code",
   "execution_count": 90,
   "metadata": {},
   "outputs": [
    {
     "name": "stdout",
     "output_type": "stream",
     "text": [
      "[[0 0 0 0 0 0 0 0]\n",
      " [0 0 0 0 0 0 0 1]\n",
      " [0 0 0 0 0 0 1 0]\n",
      " [0 0 0 0 0 0 1 1]\n",
      " [0 0 0 0 1 1 1 1]\n",
      " [0 0 0 1 0 0 0 0]\n",
      " [0 0 1 0 0 0 0 0]\n",
      " [0 1 0 0 0 0 0 0]\n",
      " [1 0 0 0 0 0 0 0]]\n"
     ]
    }
   ],
   "source": [
    "I = np.array([0, 1, 2, 3, 15, 16, 32, 64, 128], dtype=np.uint8)\n",
    "print(np.unpackbits(I[:, np.newaxis], axis=1))"
   ]
  },
  {
   "cell_type": "markdown",
   "metadata": {},
   "source": [
    "#### Дан двумерный массив. Найти все различные строки"
   ]
  },
  {
   "cell_type": "code",
   "execution_count": 91,
   "metadata": {},
   "outputs": [
    {
     "name": "stdout",
     "output_type": "stream",
     "text": [
      "[[0 0 0]\n",
      " [0 0 1]\n",
      " [1 0 0]\n",
      " [1 1 1]]\n"
     ]
    }
   ],
   "source": [
    "Z = np.random.randint(0, 2, (6,3))\n",
    "T = np.ascontiguousarray(Z).view(np.dtype((np.void, Z.dtype.itemsize * Z.shape[1])))\n",
    "_, idx = np.unique(T, return_index=True)\n",
    "uZ = Z[idx]\n",
    "print(uZ)"
   ]
  },
  {
   "cell_type": "markdown",
   "metadata": {},
   "source": [
    "#### Даны векторы A и B, написать einsum эквиваленты функций inner, outer, sum и mul"
   ]
  },
  {
   "cell_type": "code",
   "execution_count": 87,
   "metadata": {},
   "outputs": [
    {
     "data": {
      "text/plain": [
       "5.180720713949768"
      ]
     },
     "execution_count": 87,
     "metadata": {},
     "output_type": "execute_result"
    }
   ],
   "source": [
    "A = np.random.random((10,))\n",
    "B = np.random.random((10,))\n",
    "\n",
    "np.einsum('i->', A)       # sum(A)"
   ]
  },
  {
   "cell_type": "code",
   "execution_count": null,
   "metadata": {},
   "outputs": [],
   "source": [
    "np.einsum('i,i->i', A, B) # A * B"
   ]
  },
  {
   "cell_type": "code",
   "execution_count": null,
   "metadata": {},
   "outputs": [],
   "source": [
    "np.einsum('i,i', A, B)    # np.inner(A, B)"
   ]
  },
  {
   "cell_type": "code",
   "execution_count": null,
   "metadata": {},
   "outputs": [],
   "source": [
    "np.einsum('i,j', A, B)    # np.outer(A, B)"
   ]
  }
 ],
 "metadata": {
  "kernelspec": {
   "display_name": "Python 3",
   "language": "python",
   "name": "python3"
  }
 },
 "nbformat": 4,
 "nbformat_minor": 4
}
