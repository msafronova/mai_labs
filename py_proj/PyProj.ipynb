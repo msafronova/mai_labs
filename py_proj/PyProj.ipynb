{
 "cells": [
  {
   "cell_type": "markdown",
   "metadata": {},
   "source": [
    "# PyProj"
   ]
  },
  {
   "cell_type": "code",
   "execution_count": 1,
   "metadata": {},
   "outputs": [],
   "source": [
    "import pandas as pd\n",
    "import numpy as np\n",
    "from urllib.parse import urlparse\n",
    "import sys\n",
    "import os\n",
    "import cx_Oracle\n",
    "from pprint import pprint"
   ]
  },
  {
   "cell_type": "markdown",
   "metadata": {},
   "source": [
    "получаем информацию о компаниях, перечисленных в excel"
   ]
  },
  {
   "cell_type": "code",
   "execution_count": 53,
   "metadata": {},
   "outputs": [],
   "source": [
    "def get_companies():\n",
    "    tables = pd.read_html(\"https://www.nalog.ru/opendata/7707329152-reestropereldoc/\", encoding=\"UTF-8\", header=0,\n",
    "                          index_col=\"№\")\n",
    "    frame = tables[0]\n",
    "    registry = frame['Значение характеристики'].loc[8]  # url реестра\n",
    "\n",
    "    url_validator(registry)\n",
    "\n",
    "    company_list = pd.read_excel('C:\\\\code\\\\test.xlsx')['Компания'].values.tolist()\n",
    "    #print(\"содержимое excel файла\")\n",
    "    #print(company_list)\n",
    "    orders = pd.read_csv(registry, sep=';', header=0, usecols=['GB', 'G1', 'G2', 'G4'])\n",
    "    \"\"\"GA\tПорядковый номер\n",
    "       GB\tНаименование организации\n",
    "       G1\tАдрес компании\n",
    "       G2\tИНН организации\n",
    "       G3\tНомер договора\n",
    "       G4\tИнтернет сайт\n",
    "       G5\tНаличие автоустановщика для настроки програмного обеспечения при работе с электронной подписью\n",
    "       \"\"\"\n",
    "    comp_names = orders[\"GB\"].str.lower()\n",
    "    matching = comp_names.isin([x.lower() for x in company_list])\n",
    "    for cn in company_list:\n",
    "        if cn.lower() not in list(comp_names):\n",
    "                print(\"Нет данных по {}\".format(cn.lower()))\n",
    "    return orders[matching]"
   ]
  },
  {
   "cell_type": "code",
   "execution_count": 54,
   "metadata": {},
   "outputs": [],
   "source": [
    "def url_validator(url):\n",
    "    result = urlparse(url)\n",
    "    nl = r\"data.nalog.ru\"\n",
    "    f_format = \".csv\"\n",
    "    if not all([result.netloc == nl, result.path.endswith(f_format)]):\n",
    "        print(\"некорректная ссылка на файл \" + url)\n",
    "        sys.exit(0)\n",
    "    else:\n",
    "        return"
   ]
  },
  {
   "cell_type": "markdown",
   "metadata": {},
   "source": [
    "Создаём связь с базой данных"
   ]
  },
  {
   "cell_type": "code",
   "execution_count": 55,
   "metadata": {},
   "outputs": [
    {
     "ename": "ProgrammingError",
     "evalue": "Oracle Client library has already been initialized",
     "output_type": "error",
     "traceback": [
      "\u001b[1;31m---------------------------------------------------------------------------\u001b[0m",
      "\u001b[1;31mProgrammingError\u001b[0m                          Traceback (most recent call last)",
      "\u001b[1;32m<ipython-input-55-47bc724876c8>\u001b[0m in \u001b[0;36m<module>\u001b[1;34m\u001b[0m\n\u001b[1;32m----> 1\u001b[1;33m \u001b[0mcx_Oracle\u001b[0m\u001b[1;33m.\u001b[0m\u001b[0minit_oracle_client\u001b[0m\u001b[1;33m(\u001b[0m\u001b[0mlib_dir\u001b[0m\u001b[1;33m=\u001b[0m\u001b[1;34m\"C:\\\\code\\\\instantclient_19_9forever\"\u001b[0m\u001b[1;33m)\u001b[0m\u001b[1;33m\u001b[0m\u001b[1;33m\u001b[0m\u001b[0m\n\u001b[0m",
      "\u001b[1;31mProgrammingError\u001b[0m: Oracle Client library has already been initialized"
     ]
    }
   ],
   "source": [
    "cx_Oracle.init_oracle_client(lib_dir=\"C:\\\\code\\\\instantclient_19_9forever\")"
   ]
  },
  {
   "cell_type": "markdown",
   "metadata": {},
   "source": [
    "Записываем строки в таблицу\n"
   ]
  },
  {
   "cell_type": "code",
   "execution_count": 56,
   "metadata": {},
   "outputs": [
    {
     "name": "stdout",
     "output_type": "stream",
     "text": [
      "Нет данных по ооо хаха\n"
     ]
    }
   ],
   "source": [
    "    DF = get_companies()\n",
    "    DF.index = np.arange(len(DF))\n",
    "    #n = DF.loc[pd.isna(DF['G5']), 'G5'] \n",
    "    if len(DF) == 0:\n",
    "        print(\"нет совпадений\")\n",
    "        sys.exit(0)\n",
    "    connectionString = '(description =(retry_count=20)(retry_delay=3)(address=(protocol=tcps)(port=1522)(host=adb.eu-frankfurt-1.oraclecloud.com))(connect_data=(service_name=lpdmasisaukuwfd_db202009tomch_high.adwc.oraclecloud.com))(security=(ssl_server_cert_dn=\"CN=adwc.eucom-central-1.oraclecloud.com,OU=Oracle BMCS FRANKFURT,O=Oracle Corporation,L=Redwood City,ST=California,C=US\")))'\n",
    "    conn = cx_Oracle.connect(r'ADMIN', r'M@i806M@i806', dsn=connectionString)\n",
    "    cursor = conn.cursor()\n",
    "    #print(DF)\n",
    "    for c in range(len(DF)):\n",
    "        if not pd.isna(DF['GB'][c]):\n",
    "            try:\n",
    "                cursor.execute(\"\"\"begin \n",
    "                                UPDATE REESTROPERELDOC SET ADDRESS = :ADDRESS, TIN = :TIN, WEBSITE = :WEBSITE \n",
    "                                WHERE ORG_NAME = :ORG_NAME;\n",
    "                               IF sql%notfound\n",
    "                               THEN INSERT INTO REESTROPERELDOC(ORG_NAME, ADDRESS, TIN, WEBSITE) \n",
    "                               VALUES(:ORG_NAME, :ADDRESS, :TIN, :WEBSITE);\n",
    "                               END IF;\n",
    "                               end;\"\"\", \n",
    "                                {\"ADDRESS\": str(DF['G1'][c]), \n",
    "                                \"TIN\": str(DF['G2'][c]), \n",
    "                                \"WEBSITE\": str(DF['G4'][c]), \n",
    "                                \"ORG_NAME\": str(DF['GB'][c])})\n",
    "            except cx_Oracle.DatabaseError as e:\n",
    "                print (\"Ошибка: \", e)\n",
    "            else:\n",
    "                conn.commit()\n",
    "    conn.close()"
   ]
  },
  {
   "cell_type": "code",
   "execution_count": 60,
   "metadata": {},
   "outputs": [
    {
     "name": "stdout",
     "output_type": "stream",
     "text": [
      "          inn\n",
      "0  6663003127\n",
      "1  4029017981\n",
      "2  6454066437\n",
      "3  1831014533\n",
      "4  6608003052\n",
      "5          MM\n"
     ]
    }
   ],
   "source": [
    "conn = cx_Oracle.connect(r'ADMIN', r'M@i806M@i806', dsn=connectionString) \n",
    "#cursor.execute(\"SELECT * FROM REESTROPERELDOC\")\n",
    "#result = cursor.fetchall()\n",
    "result = pd.read_sql(\"\"\"SELECT * FROM REESTROPERELDOC\"\"\", conn)\n",
    "print(result)\n",
    "conn.close()"
   ]
  },
  {
   "cell_type": "code",
   "execution_count": 43,
   "metadata": {},
   "outputs": [
    {
     "name": "stdout",
     "output_type": "stream",
     "text": [
      "[('Oracle Database 19c Enterprise Edition Release 19.0.0.0.0 - Production', 'Oracle Database 19c Enterprise Edition Release 19.0.0.0.0 - Production\\nVersion 19.5.0.0.0', 'Oracle Database 19c Enterprise Edition Release 19.0.0.0.0 - Production', 0)]\n"
     ]
    }
   ],
   "source": [
    "connectionString = '(description =(retry_count=20)(retry_delay=3)(address=(protocol=tcps)(port=1522)(host=adb.eu-frankfurt-1.oraclecloud.com))(connect_data=(service_name=lpdmasisaukuwfd_db202009tomch_high.adwc.oraclecloud.com))(security=(ssl_server_cert_dn=\"CN=adwc.eucom-central-1.oraclecloud.com,OU=Oracle BMCS FRANKFURT,O=Oracle Corporation,L=Redwood City,ST=California,C=US\")))'\n",
    "   \n",
    "conn = cx_Oracle.connect(r'ADMIN', r'M@i806M@i806', dsn=connectionString) \n",
    "cursor = conn.cursor()\n",
    "cursor.execute(\"SELECT * FROM v$version\")\n",
    "result = cursor.fetchall()\n",
    "print(result)\n",
    "conn.close()"
   ]
  },
  {
   "cell_type": "code",
   "execution_count": null,
   "metadata": {},
   "outputs": [],
   "source": []
  }
 ],
 "metadata": {
  "kernelspec": {
   "display_name": "Python 3",
   "language": "python",
   "name": "python3"
  },
  "language_info": {
   "codemirror_mode": {
    "name": "ipython",
    "version": 3
   },
   "file_extension": ".py",
   "mimetype": "text/x-python",
   "name": "python",
   "nbconvert_exporter": "python",
   "pygments_lexer": "ipython3",
   "version": "3.7.4"
  }
 },
 "nbformat": 4,
 "nbformat_minor": 2
}
