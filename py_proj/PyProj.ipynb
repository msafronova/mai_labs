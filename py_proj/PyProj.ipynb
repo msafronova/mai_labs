{
 "cells": [
  {
   "cell_type": "markdown",
   "metadata": {},
   "source": [
    "# PyProj"
   ]
  },
  {
   "cell_type": "code",
   "execution_count": 6,
   "metadata": {},
   "outputs": [],
   "source": [
    "import pandas as pd\n",
    "from urllib.parse import urlparse\n",
    "import sys\n",
    "import os\n",
    "import cx_Oracle\n",
    "from pprint import pprint"
   ]
  },
  {
   "cell_type": "markdown",
   "metadata": {},
   "source": [
    "получаем информацию о компаниях, перечисленных в excel"
   ]
  },
  {
   "cell_type": "code",
   "execution_count": 72,
   "metadata": {},
   "outputs": [],
   "source": [
    "def get_companies():\n",
    "    tables = pd.read_html(\"https://www.nalog.ru/opendata/7707329152-reestropereldoc/\", encoding=\"UTF-8\", header=0,\n",
    "                          index_col=\"№\")\n",
    "    frame = tables[0]\n",
    "    registry = frame['Значение характеристики'].loc[8]  # url реестра\n",
    "\n",
    "    url_validator(registry)\n",
    "\n",
    "    company_list = pd.read_excel('C:\\\\code\\\\test.xlsx')['Компания'].values.tolist()\n",
    "    print(\"содержимое excel файла\")\n",
    "    print(company_list)\n",
    "    orders = pd.read_csv(registry, sep=';', header=0, index_col=\"GA\")\n",
    "    \"\"\"GA\tПорядковый номер\n",
    "       GB\tНаименование организации\n",
    "       G1\tАдрес компании\n",
    "       G2\tИНН организации\n",
    "       G3\tНомер договора\n",
    "       G4\tИнтернет сайт\n",
    "       G5\tНаличие автоустановщика для настроки програмного обеспечения при работе с электронной подписью\n",
    "       \"\"\"\n",
    "    orders = orders[['GB', 'G1', 'G2', 'G3', 'G4']]\n",
    "    comp_names = orders[\"GB\"].str.lower()\n",
    "    matching = comp_names.isin([x.lower() for x in company_list])\n",
    "    for cn in company_list:\n",
    "        if cn.lower() not in list(comp_names):\n",
    "                print(\"No info for {}\".format(cn.lower()))\n",
    "    # print(orders[matching])"
   ]
  },
  {
   "cell_type": "code",
   "execution_count": 73,
   "metadata": {},
   "outputs": [],
   "source": [
    "def url_validator(url):\n",
    "    result = urlparse(url)\n",
    "    nl = r\"data.nalog.ru\"\n",
    "    f_format = \".csv\"\n",
    "    if not all([result.netloc == nl, result.path.endswith(f_format)]):\n",
    "        print(\"некорректная ссылка на файл \" + url)\n",
    "        sys.exit(0)\n",
    "    else:\n",
    "        return"
   ]
  },
  {
   "cell_type": "code",
   "execution_count": 74,
   "metadata": {},
   "outputs": [
    {
     "name": "stdout",
     "output_type": "stream",
     "text": [
      "содержимое excel файла\n",
      "['ЗАО ПФ СКБ Контур', 'ооо рпц партнер', 'ООО НПП Ижинформпроект', 'ЗАО Калуга Астрал', 'ООО РПЦ Партнер', 'ООО хаха', 'ОАО СКБ-банк']\n",
      "No info for ооо хаха\n"
     ]
    }
   ],
   "source": [
    "get_companies()"
   ]
  },
  {
   "cell_type": "markdown",
   "metadata": {},
   "source": [
    "Создаём связь с базой данных"
   ]
  },
  {
   "cell_type": "code",
   "execution_count": 75,
   "metadata": {},
   "outputs": [],
   "source": [
    "cx_Oracle.init_oracle_client(lib_dir=\"C:\\\\code\\\\instantclient_19_9forever\")"
   ]
  },
  {
   "cell_type": "code",
   "execution_count": 76,
   "metadata": {},
   "outputs": [],
   "source": [
    "connectionString = '(description =(retry_count=20)(retry_delay=3)(address=(protocol=tcps)(port=1522)(host=adb.eu-frankfurt-1.oraclecloud.com))(connect_data=(service_name=lpdmasisaukuwfd_db202009tomch_high.adwc.oraclecloud.com))(security=(ssl_server_cert_dn=\"CN=adwc.eucom-central-1.oraclecloud.com,OU=Oracle BMCS FRANKFURT,O=Oracle Corporation,L=Redwood City,ST=California,C=US\")))'\n",
    "conn = cx_Oracle.connect(r'ADMIN', r'M@i806M@i806', dsn=connectionString)"
   ]
  },
  {
   "cell_type": "code",
   "execution_count": 77,
   "metadata": {},
   "outputs": [],
   "source": [
    "cursor = conn.cursor()"
   ]
  },
  {
   "cell_type": "code",
   "execution_count": null,
   "metadata": {},
   "outputs": [],
   "source": []
  }
 ],
 "metadata": {
  "kernelspec": {
   "display_name": "Python 3",
   "language": "python",
   "name": "python3"
  },
  "language_info": {
   "codemirror_mode": {
    "name": "ipython",
    "version": 3
   },
   "file_extension": ".py",
   "mimetype": "text/x-python",
   "name": "python",
   "nbconvert_exporter": "python",
   "pygments_lexer": "ipython3",
   "version": "3.7.4"
  }
 },
 "nbformat": 4,
 "nbformat_minor": 2
}
